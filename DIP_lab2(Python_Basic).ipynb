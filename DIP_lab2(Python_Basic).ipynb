{
  "nbformat": 4,
  "nbformat_minor": 0,
  "metadata": {
    "colab": {
      "provenance": []
    },
    "kernelspec": {
      "name": "python3",
      "display_name": "Python 3"
    },
    "language_info": {
      "name": "python"
    }
  },
  "cells": [
    {
      "cell_type": "code",
      "execution_count": null,
      "metadata": {
        "colab": {
          "base_uri": "https://localhost:8080/"
        },
        "id": "C0KYpnc3kdB0",
        "outputId": "9e4fbc86-58ca-4b40-ec53-dc96121ed046"
      },
      "outputs": [
        {
          "output_type": "stream",
          "name": "stdout",
          "text": [
            "Hello World\n"
          ]
        }
      ],
      "source": [
        "print(\"Hello World\")"
      ]
    },
    {
      "cell_type": "code",
      "source": [
        "print(5+6)\n",
        "print(5*6)\n",
        "print(2**6)\n",
        "print(10//3)\n",
        "print(10%3)"
      ],
      "metadata": {
        "colab": {
          "base_uri": "https://localhost:8080/"
        },
        "id": "73B7IM9elK7T",
        "outputId": "328ef792-4f0e-4a13-a955-d25fb2266762"
      },
      "execution_count": null,
      "outputs": [
        {
          "output_type": "stream",
          "name": "stdout",
          "text": [
            "11\n",
            "30\n",
            "64\n",
            "3\n",
            "1\n"
          ]
        }
      ]
    },
    {
      "cell_type": "code",
      "source": [
        "#variable\n",
        "x=4\n",
        "print(type(x)) #value size ba value theke bujhe type\n",
        "print(4)\n",
        "x,y,z= 3.1416,66 ,67\n",
        "\n",
        "print(x+y)\n",
        "print(type(x))\n",
        "z=True\n",
        "print(z)\n",
        "print(type(z))\n",
        "\n",
        "t=str(56)\n",
        "print(t) ##type custing\n",
        "print(type(t))"
      ],
      "metadata": {
        "colab": {
          "base_uri": "https://localhost:8080/"
        },
        "id": "JH8ulkG9leh6",
        "outputId": "342722d5-c704-4be9-ee63-6104683db643"
      },
      "execution_count": null,
      "outputs": [
        {
          "output_type": "stream",
          "name": "stdout",
          "text": [
            "<class 'int'>\n",
            "4\n",
            "69.1416\n",
            "<class 'float'>\n",
            "True\n",
            "<class 'bool'>\n",
            "56\n",
            "<class 'str'>\n"
          ]
        }
      ]
    },
    {
      "cell_type": "code",
      "source": [
        "#String\n",
        "a = 'py'\n",
        "b = 'charm'\n",
        "print(a+b)\n",
        "print(a,b)\n",
        "print(a*5)\n",
        "#print(a+5)  #data type different\n",
        "print(a + str(5))\n",
        "\n",
        "t=\"\"\"Lorem ipsum dolar sit amet,\n",
        "consectetur adiajfgkasjg asgjalkgj agjalk aghakl.\"\"\"\n",
        "print(t)\n"
      ],
      "metadata": {
        "colab": {
          "base_uri": "https://localhost:8080/"
        },
        "id": "9qmWD0Gjmuss",
        "outputId": "2bb110f8-0d37-4933-9900-e8227fcb89a6"
      },
      "execution_count": null,
      "outputs": [
        {
          "output_type": "stream",
          "name": "stdout",
          "text": [
            "pycharm\n",
            "py charm\n",
            "pypypypypy\n",
            "py5\n",
            "Lorem ipsum dolar sit amet,\n",
            "consectetur adiajfgkasjg asgjalkgj agjalk aghakl.\n"
          ]
        }
      ]
    },
    {
      "cell_type": "code",
      "source": [],
      "metadata": {
        "id": "qp-OK_PKnE2r"
      },
      "execution_count": null,
      "outputs": []
    }
  ]
}